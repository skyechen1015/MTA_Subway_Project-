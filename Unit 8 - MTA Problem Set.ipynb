{
 "cells": [
  {
   "cell_type": "markdown",
   "metadata": {},
   "source": [
    "1.Save the Saturday, June 17th, 2017 data to a csv file. You can find it here: http://web.mta.info/developers/turnstile.html and read it in using read_csv. View the head of the dataframe."
   ]
  },
  {
   "cell_type": "code",
   "execution_count": 14,
   "metadata": {},
   "outputs": [
    {
     "data": {
      "text/html": [
       "<div>\n",
       "<style scoped>\n",
       "    .dataframe tbody tr th:only-of-type {\n",
       "        vertical-align: middle;\n",
       "    }\n",
       "\n",
       "    .dataframe tbody tr th {\n",
       "        vertical-align: top;\n",
       "    }\n",
       "\n",
       "    .dataframe thead th {\n",
       "        text-align: right;\n",
       "    }\n",
       "</style>\n",
       "<table border=\"1\" class=\"dataframe\">\n",
       "  <thead>\n",
       "    <tr style=\"text-align: right;\">\n",
       "      <th></th>\n",
       "      <th>C/A</th>\n",
       "      <th>UNIT</th>\n",
       "      <th>SCP</th>\n",
       "      <th>STATION</th>\n",
       "      <th>LINENAME</th>\n",
       "      <th>DIVISION</th>\n",
       "      <th>DATE</th>\n",
       "      <th>TIME</th>\n",
       "      <th>DESC</th>\n",
       "      <th>ENTRIES</th>\n",
       "      <th>EXITS</th>\n",
       "    </tr>\n",
       "  </thead>\n",
       "  <tbody>\n",
       "    <tr>\n",
       "      <th>0</th>\n",
       "      <td>A002</td>\n",
       "      <td>R051</td>\n",
       "      <td>02-00-00</td>\n",
       "      <td>59 ST</td>\n",
       "      <td>NQR456W</td>\n",
       "      <td>BMT</td>\n",
       "      <td>06/10/2017</td>\n",
       "      <td>00:00:00</td>\n",
       "      <td>REGULAR</td>\n",
       "      <td>6215258</td>\n",
       "      <td>2104297</td>\n",
       "    </tr>\n",
       "    <tr>\n",
       "      <th>1</th>\n",
       "      <td>A002</td>\n",
       "      <td>R051</td>\n",
       "      <td>02-00-00</td>\n",
       "      <td>59 ST</td>\n",
       "      <td>NQR456W</td>\n",
       "      <td>BMT</td>\n",
       "      <td>06/10/2017</td>\n",
       "      <td>04:00:00</td>\n",
       "      <td>REGULAR</td>\n",
       "      <td>6215284</td>\n",
       "      <td>2104303</td>\n",
       "    </tr>\n",
       "    <tr>\n",
       "      <th>2</th>\n",
       "      <td>A002</td>\n",
       "      <td>R051</td>\n",
       "      <td>02-00-00</td>\n",
       "      <td>59 ST</td>\n",
       "      <td>NQR456W</td>\n",
       "      <td>BMT</td>\n",
       "      <td>06/10/2017</td>\n",
       "      <td>08:00:00</td>\n",
       "      <td>REGULAR</td>\n",
       "      <td>6215318</td>\n",
       "      <td>2104337</td>\n",
       "    </tr>\n",
       "    <tr>\n",
       "      <th>3</th>\n",
       "      <td>A002</td>\n",
       "      <td>R051</td>\n",
       "      <td>02-00-00</td>\n",
       "      <td>59 ST</td>\n",
       "      <td>NQR456W</td>\n",
       "      <td>BMT</td>\n",
       "      <td>06/10/2017</td>\n",
       "      <td>12:00:00</td>\n",
       "      <td>REGULAR</td>\n",
       "      <td>6215475</td>\n",
       "      <td>2104417</td>\n",
       "    </tr>\n",
       "    <tr>\n",
       "      <th>4</th>\n",
       "      <td>A002</td>\n",
       "      <td>R051</td>\n",
       "      <td>02-00-00</td>\n",
       "      <td>59 ST</td>\n",
       "      <td>NQR456W</td>\n",
       "      <td>BMT</td>\n",
       "      <td>06/10/2017</td>\n",
       "      <td>16:00:00</td>\n",
       "      <td>REGULAR</td>\n",
       "      <td>6215841</td>\n",
       "      <td>2104465</td>\n",
       "    </tr>\n",
       "  </tbody>\n",
       "</table>\n",
       "</div>"
      ],
      "text/plain": [
       "    C/A  UNIT       SCP STATION LINENAME DIVISION        DATE      TIME  \\\n",
       "0  A002  R051  02-00-00   59 ST  NQR456W      BMT  06/10/2017  00:00:00   \n",
       "1  A002  R051  02-00-00   59 ST  NQR456W      BMT  06/10/2017  04:00:00   \n",
       "2  A002  R051  02-00-00   59 ST  NQR456W      BMT  06/10/2017  08:00:00   \n",
       "3  A002  R051  02-00-00   59 ST  NQR456W      BMT  06/10/2017  12:00:00   \n",
       "4  A002  R051  02-00-00   59 ST  NQR456W      BMT  06/10/2017  16:00:00   \n",
       "\n",
       "      DESC  ENTRIES  \\\n",
       "0  REGULAR  6215258   \n",
       "1  REGULAR  6215284   \n",
       "2  REGULAR  6215318   \n",
       "3  REGULAR  6215475   \n",
       "4  REGULAR  6215841   \n",
       "\n",
       "   EXITS                                                                 \n",
       "0                                            2104297                     \n",
       "1                                            2104303                     \n",
       "2                                            2104337                     \n",
       "3                                            2104417                     \n",
       "4                                            2104465                     "
      ]
     },
     "execution_count": 14,
     "metadata": {},
     "output_type": "execute_result"
    }
   ],
   "source": [
    "#insert 1\n",
    "import pandas as pd  \n",
    "\n",
    "data = pd.read_csv('june17.csv')\n",
    "data.head()"
   ]
  },
  {
   "cell_type": "code",
   "execution_count": null,
   "metadata": {},
   "outputs": [],
   "source": []
  },
  {
   "cell_type": "markdown",
   "metadata": {},
   "source": [
    "2.View the dataframe columns. Is there extra whitespace at the end of any of the column names? Strip all of the whitespace."
   ]
  },
  {
   "cell_type": "code",
   "execution_count": 15,
   "metadata": {},
   "outputs": [
    {
     "data": {
      "text/plain": [
       "Index(['C/A', 'UNIT', 'SCP', 'STATION', 'LINENAME', 'DIVISION', 'DATE', 'TIME',\n",
       "       'DESC', 'ENTRIES', 'EXITS'],\n",
       "      dtype='object')"
      ]
     },
     "execution_count": 15,
     "metadata": {},
     "output_type": "execute_result"
    }
   ],
   "source": [
    "#insert 2\n",
    "data.columns = data.columns.str.strip()\n",
    "data.columns  "
   ]
  },
  {
   "cell_type": "markdown",
   "metadata": {},
   "source": [
    "3.In one line, determine how many rows are in your dataframe and if there are are any null entries."
   ]
  },
  {
   "cell_type": "code",
   "execution_count": 16,
   "metadata": {},
   "outputs": [
    {
     "name": "stdout",
     "output_type": "stream",
     "text": [
      "<class 'pandas.core.frame.DataFrame'>\n",
      "RangeIndex: 197209 entries, 0 to 197208\n",
      "Data columns (total 11 columns):\n",
      "C/A         197209 non-null object\n",
      "UNIT        197209 non-null object\n",
      "SCP         197209 non-null object\n",
      "STATION     197209 non-null object\n",
      "LINENAME    197209 non-null object\n",
      "DIVISION    197209 non-null object\n",
      "DATE        197209 non-null object\n",
      "TIME        197209 non-null object\n",
      "DESC        197209 non-null object\n",
      "ENTRIES     197209 non-null int64\n",
      "EXITS       197209 non-null int64\n",
      "dtypes: int64(2), object(9)\n",
      "memory usage: 16.6+ MB\n"
     ]
    }
   ],
   "source": [
    "#insert 3\n",
    "data.info() "
   ]
  },
  {
   "cell_type": "markdown",
   "metadata": {},
   "source": [
    "4.In one line, print out the unique STATION names. How many are there? (Hint: use set)."
   ]
  },
  {
   "cell_type": "code",
   "execution_count": 17,
   "metadata": {},
   "outputs": [
    {
     "data": {
      "text/plain": [
       "array(['59 ST', '5 AV/59 ST', '57 ST-7 AV', '49 ST', 'TIMES SQ-42 ST',\n",
       "       '34 ST-HERALD SQ', '28 ST', '23 ST', '14 ST-UNION SQ', '8 ST-NYU',\n",
       "       'PRINCE ST', 'CANAL ST', 'CITY HALL', 'CORTLANDT ST', 'RECTOR ST',\n",
       "       'WHITEHALL S-FRY', 'DELANCEY/ESSEX', 'BOWERY', 'CHAMBERS ST',\n",
       "       'FULTON ST', 'BROAD ST', '7 AV', 'PARK PLACE', 'BOTANIC GARDEN',\n",
       "       'PROSPECT PARK', 'PARKSIDE AV', 'CHURCH AV', 'BEVERLEY ROAD',\n",
       "       'CORTELYOU RD', 'NEWKIRK PLAZA', 'AVENUE H', 'AVENUE J',\n",
       "       'AVENUE M', 'KINGS HWY', 'AVENUE U', 'NECK RD', 'SHEEPSHEAD BAY',\n",
       "       'BRIGHTON BEACH', 'OCEAN PKWY', 'BOROUGH HALL', 'JAY ST-METROTEC',\n",
       "       'DEKALB AV', 'ATL AV-BARCLAY', 'UNION ST', '4AV-9 ST', '25 ST',\n",
       "       '36 ST', '45 ST', '77 ST', '86 ST', 'BAY RIDGE-95 ST', '8 AV',\n",
       "       'FT HAMILTON PKY', 'NEW UTRECHT AV', '18 AV', '20 AV', 'BAY PKWY',\n",
       "       '9 AV', '50 ST', '55 ST', '71 ST', '79 ST', '25 AV', 'BAY 50 ST',\n",
       "       'CONEY IS-STILLW', 'W 8 ST-AQUARIUM', '6 AV', '3 AV', '1 AV',\n",
       "       'BEDFORD AV', 'LORIMER ST', 'GRAHAM AV', 'GRAND ST', 'MONTROSE AV',\n",
       "       'MORGAN AV', 'JEFFERSON ST', 'MYRTLE-WYCKOFF', 'HALSEY ST',\n",
       "       'WILSON AV', 'BUSHWICK AV', 'ATLANTIC AV', 'SUTTER AV',\n",
       "       'LIVONIA AV', 'NEW LOTS', 'EAST 105 ST', 'CANARSIE-ROCKAW',\n",
       "       'HOWARD BCH JFK', 'JFK JAMAICA CT1', 'MARCY AV', 'HEWES ST',\n",
       "       'FLUSHING AV', 'MYRTLE AV', 'KOSCIUSZKO ST', 'GATES AV',\n",
       "       'CHAUNCEY ST', 'ALABAMA AV', 'VAN SICLEN AV', 'CLEVELAND ST',\n",
       "       'NORWOOD AV', 'CRESCENT ST', 'CYPRESS HILLS', '75 ST-ELDERTS',\n",
       "       '85 ST-FOREST PK', 'WOODHAVEN BLVD', '104 ST', '111 ST', '121 ST',\n",
       "       'CENTRAL AV', 'KNICKERBOCKER', 'SENECA AVE', 'FOREST AVE',\n",
       "       'FRESH POND RD', 'METROPOLITAN AV', 'INWOOD-207 ST', 'DYCKMAN ST',\n",
       "       '190 ST', '181 ST', '175 ST', '168 ST', '163 ST-AMSTERDM',\n",
       "       '155 ST', '145 ST', '135 ST', '125 ST', '116 ST', 'CATHEDRAL PKWY',\n",
       "       '103 ST', '96 ST', '81 ST-MUSEUM', '72 ST', '59 ST COLUMBUS',\n",
       "       '42 ST-PORT AUTH', '34 ST-PENN STA', '14 ST', 'W 4 ST-WASH SQ',\n",
       "       'SPRING ST', 'WORLD TRADE CTR', 'HIGH ST', 'HOYT-SCHER',\n",
       "       'LAFAYETTE AV', 'CLINTON-WASH AV', 'FRANKLIN AV', 'NOSTRAND AV',\n",
       "       'KINGSTON-THROOP', 'UTICA AV', 'RALPH AV', 'ROCKAWAY AV',\n",
       "       'BROADWAY JCT', 'LIBERTY AV', 'VAN SICLEN AVE', 'SHEPHERD AV',\n",
       "       'EUCLID AV', 'GRANT AV', '80 ST', '88 ST', 'ROCKAWAY BLVD',\n",
       "       'OZONE PK LEFFRT', 'AQUEDUCT N.COND', 'AQUEDUCT RACETR',\n",
       "       'BROAD CHANNEL', 'BEACH 90 ST', 'BEACH 98 ST', 'BEACH 105 ST',\n",
       "       'ROCKAWAY PARK B', 'BEACH 67 ST', 'BEACH 60 ST', 'BEACH 44 ST',\n",
       "       'BEACH 36 ST', 'BEACH 25 ST', 'FAR ROCKAWAY', '161/YANKEE STAD',\n",
       "       '167 ST', '170 ST', '174-175 STS', 'TREMONT AV', '182-183 STS',\n",
       "       'FORDHAM RD', 'KINGSBRIDGE RD', 'BEDFORD PK BLVD',\n",
       "       'NORWOOD 205 ST', '5 AV/53 ST', 'LEXINGTON AV/53',\n",
       "       'COURT SQ-23 ST', 'QUEENS PLAZA', 'STEINWAY ST', '46 ST',\n",
       "       'NORTHERN BLVD', '65 ST', 'JKSN HT-ROOSVLT', 'ELMHURST AV',\n",
       "       'GRAND-NEWTOWN', '63 DR-REGO PARK', '67 AV', 'FOREST HILLS 71',\n",
       "       '75 AV', 'KEW GARDENS', 'BRIARWOOD', 'SUTPHIN BLVD',\n",
       "       'PARSONS BLVD', '169 ST', 'JAMAICA 179 ST', 'COURT SQ', '21 ST',\n",
       "       'GREENPOINT AV', 'NASSAU AV', 'BROADWAY', 'MYRTLE-WILLOUGH',\n",
       "       'BEDFORD-NOSTRAN', 'CLASSON AV', '47-50 STS ROCK',\n",
       "       '42 ST-BRYANT PK', \"B'WAY-LAFAYETTE\", '2 AV', 'EAST BROADWAY',\n",
       "       'YORK ST', 'BERGEN ST', 'CARROLL ST', 'SMITH-9 ST', '4 AV-9 ST',\n",
       "       '15 ST-PROSPECT', 'DITMAS AV', 'AVENUE I', 'AVENUE N', 'AVENUE P',\n",
       "       'AVENUE X', 'NEPTUNE AV', '57 ST', 'LEXINGTON AV/63',\n",
       "       'ROOSEVELT ISLND', '21 ST-QNSBRIDGE', 'JAMAICA VAN WK',\n",
       "       'SUTPHIN-ARCHER', 'JAMAICA CENTER', '72 ST-2 AVE', '86 ST-2 AVE',\n",
       "       '96 ST-2 AVE', 'ORCHARD BEACH', 'NEWARK HW BMEBE', 'HARRISON',\n",
       "       'JOURNAL SQUARE', 'GROVE STREET', 'EXCHANGE PLACE',\n",
       "       'PAVONIA/NEWPORT', 'CITY / BUS', 'CHRISTOPHER ST', '9TH STREET',\n",
       "       '14TH STREET', 'TWENTY THIRD ST', 'THIRTY ST', 'LACKAWANNA',\n",
       "       'THIRTY THIRD ST', 'NEWARK BM BW', 'NEWARK C', 'NEWARK HM HE',\n",
       "       'PATH WTC 2', 'PATH NEW WTC', 'SOUTH FERRY', 'WALL ST',\n",
       "       'FRANKLIN ST', 'HOUSTON ST', '18 ST', '66 ST-LINCOLN',\n",
       "       '116 ST-COLUMBIA', '137 ST CITY COL', '157 ST', '191 ST', '207 ST',\n",
       "       '215 ST', 'MARBLE HILL-225', '231 ST', '238 ST', 'V.CORTLANDT PK',\n",
       "       'BOWLING GREEN', 'BROOKLYN BRIDGE', 'BLEECKER ST', 'ASTOR PL',\n",
       "       '33 ST', 'GRD CNTRL-42 ST', '51 ST', '68ST-HUNTER CO', '110 ST',\n",
       "       '138/GRAND CONC', '149/GRAND CONC', 'MT EDEN AV', '176 ST',\n",
       "       'BURNSIDE AV', '183 ST', 'MOSHOLU PKWY', 'WOODLAWN',\n",
       "       'CENTRAL PK N110', 'HARLEM 148 ST', '3 AV-149 ST', 'JACKSON AV',\n",
       "       'PROSPECT AV', 'INTERVALE AV', 'SIMPSON ST', 'FREEMAN ST',\n",
       "       '174 ST', 'WEST FARMS SQ', 'E 180 ST', 'BRONX PARK EAST',\n",
       "       'PELHAM PKWY', 'ALLERTON AV', 'BURKE AV', 'GUN HILL RD', '219 ST',\n",
       "       '225 ST', '233 ST', 'NEREID AV', 'WAKEFIELD/241', '3 AV 138 ST',\n",
       "       'BROOK AV', 'CYPRESS AV', \"E 143/ST MARY'S\", 'E 149 ST',\n",
       "       'LONGWOOD AV', 'HUNTS POINT AV', 'WHITLOCK AV', 'ELDER AV',\n",
       "       'MORISN AV/SNDVW', 'ST LAWRENCE AV', 'PARKCHESTER',\n",
       "       'CASTLE HILL AV', 'ZEREGA AV', 'WESTCHESTER SQ', 'MIDDLETOWN RD',\n",
       "       'BUHRE AV', 'PELHAM BAY PARK', '5 AVE', 'VERNON-JACKSON',\n",
       "       'HUNTERS PT AV', 'QUEENSBORO PLZ', '39 AV', '36 AV', '30 AV',\n",
       "       'ASTORIA BLVD', 'ASTORIA DITMARS', '33 ST-RAWSON ST',\n",
       "       '40 ST LOWERY ST', '46 ST BLISS ST', '52 ST', '61 ST WOODSIDE',\n",
       "       '69 ST', '74 ST-BROADWAY', '82 ST-JACKSON H', '90 ST-ELMHURST',\n",
       "       'JUNCTION BLVD', '103 ST-CORONA', 'METS-WILLETS PT',\n",
       "       'FLUSHING-MAIN', '34 ST-HUDSON YD', 'CLARK ST', 'HOYT ST',\n",
       "       'NEVINS ST', 'GRAND ARMY PLAZ', 'EASTN PKWY-MUSM', 'KINGSTON AV',\n",
       "       'CROWN HTS-UTICA', 'SUTTER AV-RUTLD', 'SARATOGA AV', 'JUNIUS ST',\n",
       "       'PENNSYLVANIA AV', 'NEW LOTS AV', 'PRESIDENT ST', 'STERLING ST',\n",
       "       'WINTHROP ST', 'BEVERLY RD', 'NEWKIRK AV', 'FLATBUSH AV-B.C',\n",
       "       'MORRIS PARK', 'BAYCHESTER AV', 'EASTCHSTER/DYRE', 'ST. GEORGE',\n",
       "       'TOMPKINSVILLE', 'RIT-MANHATTAN', 'RIT-ROOSEVELT'], dtype=object)"
      ]
     },
     "execution_count": 17,
     "metadata": {},
     "output_type": "execute_result"
    }
   ],
   "source": [
    "#insert 4\n",
    "data.STATION.unique()"
   ]
  },
  {
   "cell_type": "markdown",
   "metadata": {},
   "source": [
    "5.Okay, so we understand what station represents. But what the heck are C/A, UNIT, and SCP? Keep in mind that in the larger stations, you might have multiple areas within one station that look like this:\n",
    "\n",
    "<img src=\"image.jpg\" style=\"width: 300px;\"/>\n",
    "\n",
    "Further complicating things, there are a few station names like 14TH ST that refer to more than one station location along that street.\n",
    "\n",
    "This data set is not very well documented. Welcome to the joys of real world data science!!!\n",
    "\n",
    "Read the following two links carefully to see other people's confusion and what information they have been able to gather:\n",
    "\n",
    "https://groups.google.com/forum/#!topic/mtadeveloperresources/AMVx2WUY9iI\n",
    "\n",
    "https://groups.google.com/forum/#!searchin/mtadeveloperresources/%22remote$20unit%22%7Csort:relevance/mtadeveloperresources/z8l3ZU9cY6Y/OFlHGkFAimQJ\n",
    "\n",
    "What did Patrick O'Hara and Katie Toth have to say?"
   ]
  },
  {
   "cell_type": "code",
   "execution_count": 18,
   "metadata": {},
   "outputs": [
    {
     "name": "stdout",
     "output_type": "stream",
     "text": [
      "Some stations in MTA datafile have very strange name that do not make sense in the real life. So it is hard to refer and find a specific station.\n",
      "Also it is hard to understand what is a control area and other terms that are used in MTA datafile. \n"
     ]
    }
   ],
   "source": [
    "#insert 5\n",
    "print('Some stations in MTA datafile have very strange name that do not make sense in the real life. So it is hard to refer and find a specific station.')\n",
    "print('Also it is hard to understand what is a control area and other terms that are used in MTA datafile. ')"
   ]
  },
  {
   "cell_type": "markdown",
   "metadata": {},
   "source": [
    "6.To simplify our calculations right now, let's only look at ridership on Monday, June 12th, 2017. In one line, create a dataset called monday that just includes the dates listed as 06/12/2017.\n",
    "\n",
    "Then, use the command \"monday = monday.reset_index(drop=True)\" to reset the index."
   ]
  },
  {
   "cell_type": "code",
   "execution_count": 19,
   "metadata": {},
   "outputs": [
    {
     "data": {
      "text/html": [
       "<div>\n",
       "<style scoped>\n",
       "    .dataframe tbody tr th:only-of-type {\n",
       "        vertical-align: middle;\n",
       "    }\n",
       "\n",
       "    .dataframe tbody tr th {\n",
       "        vertical-align: top;\n",
       "    }\n",
       "\n",
       "    .dataframe thead th {\n",
       "        text-align: right;\n",
       "    }\n",
       "</style>\n",
       "<table border=\"1\" class=\"dataframe\">\n",
       "  <thead>\n",
       "    <tr style=\"text-align: right;\">\n",
       "      <th></th>\n",
       "      <th>C/A</th>\n",
       "      <th>UNIT</th>\n",
       "      <th>SCP</th>\n",
       "      <th>STATION</th>\n",
       "      <th>LINENAME</th>\n",
       "      <th>DIVISION</th>\n",
       "      <th>DATE</th>\n",
       "      <th>TIME</th>\n",
       "      <th>DESC</th>\n",
       "      <th>ENTRIES</th>\n",
       "      <th>EXITS</th>\n",
       "    </tr>\n",
       "  </thead>\n",
       "  <tbody>\n",
       "    <tr>\n",
       "      <th>0</th>\n",
       "      <td>A002</td>\n",
       "      <td>R051</td>\n",
       "      <td>02-00-00</td>\n",
       "      <td>59 ST</td>\n",
       "      <td>NQR456W</td>\n",
       "      <td>BMT</td>\n",
       "      <td>06/12/2017</td>\n",
       "      <td>00:00:00</td>\n",
       "      <td>REGULAR</td>\n",
       "      <td>6217322</td>\n",
       "      <td>2104727</td>\n",
       "    </tr>\n",
       "    <tr>\n",
       "      <th>1</th>\n",
       "      <td>A002</td>\n",
       "      <td>R051</td>\n",
       "      <td>02-00-00</td>\n",
       "      <td>59 ST</td>\n",
       "      <td>NQR456W</td>\n",
       "      <td>BMT</td>\n",
       "      <td>06/12/2017</td>\n",
       "      <td>04:00:00</td>\n",
       "      <td>REGULAR</td>\n",
       "      <td>6217332</td>\n",
       "      <td>2104729</td>\n",
       "    </tr>\n",
       "    <tr>\n",
       "      <th>2</th>\n",
       "      <td>A002</td>\n",
       "      <td>R051</td>\n",
       "      <td>02-00-00</td>\n",
       "      <td>59 ST</td>\n",
       "      <td>NQR456W</td>\n",
       "      <td>BMT</td>\n",
       "      <td>06/12/2017</td>\n",
       "      <td>08:00:00</td>\n",
       "      <td>REGULAR</td>\n",
       "      <td>6217372</td>\n",
       "      <td>2104813</td>\n",
       "    </tr>\n",
       "    <tr>\n",
       "      <th>3</th>\n",
       "      <td>A002</td>\n",
       "      <td>R051</td>\n",
       "      <td>02-00-00</td>\n",
       "      <td>59 ST</td>\n",
       "      <td>NQR456W</td>\n",
       "      <td>BMT</td>\n",
       "      <td>06/12/2017</td>\n",
       "      <td>12:00:00</td>\n",
       "      <td>REGULAR</td>\n",
       "      <td>6217540</td>\n",
       "      <td>2105024</td>\n",
       "    </tr>\n",
       "    <tr>\n",
       "      <th>4</th>\n",
       "      <td>A002</td>\n",
       "      <td>R051</td>\n",
       "      <td>02-00-00</td>\n",
       "      <td>59 ST</td>\n",
       "      <td>NQR456W</td>\n",
       "      <td>BMT</td>\n",
       "      <td>06/12/2017</td>\n",
       "      <td>16:00:00</td>\n",
       "      <td>REGULAR</td>\n",
       "      <td>6217825</td>\n",
       "      <td>2105081</td>\n",
       "    </tr>\n",
       "  </tbody>\n",
       "</table>\n",
       "</div>"
      ],
      "text/plain": [
       "    C/A  UNIT       SCP STATION LINENAME DIVISION        DATE      TIME  \\\n",
       "0  A002  R051  02-00-00   59 ST  NQR456W      BMT  06/12/2017  00:00:00   \n",
       "1  A002  R051  02-00-00   59 ST  NQR456W      BMT  06/12/2017  04:00:00   \n",
       "2  A002  R051  02-00-00   59 ST  NQR456W      BMT  06/12/2017  08:00:00   \n",
       "3  A002  R051  02-00-00   59 ST  NQR456W      BMT  06/12/2017  12:00:00   \n",
       "4  A002  R051  02-00-00   59 ST  NQR456W      BMT  06/12/2017  16:00:00   \n",
       "\n",
       "      DESC  ENTRIES    EXITS  \n",
       "0  REGULAR  6217322  2104727  \n",
       "1  REGULAR  6217332  2104729  \n",
       "2  REGULAR  6217372  2104813  \n",
       "3  REGULAR  6217540  2105024  \n",
       "4  REGULAR  6217825  2105081  "
      ]
     },
     "execution_count": 19,
     "metadata": {},
     "output_type": "execute_result"
    }
   ],
   "source": [
    "#insert 6\n",
    "monday=data[data.DATE=='06/12/2017']\n",
    "monday=monday.reset_index(drop=True) \n",
    "monday.head()"
   ]
  },
  {
   "cell_type": "markdown",
   "metadata": {},
   "source": [
    "7.Create a dictionary called monday_dict mapping the tuple (C/A, UNIT,SCP, STATION) to a list of tuples containing (TIME,EXITS).\n",
    "\n",
    "For example, the key ('A002', 'R051', '02-00-00','59 ST') in your dictionary should give the value:\n",
    "\n",
    "[('00:00:00', 2104727),\n",
    " ('04:00:00', 2104729),\n",
    " ('08:00:00', 2104813),\n",
    " ('12:00:00', 2105024),\n",
    " ('16:00:00', 2105081),\n",
    " ('20:00:00', 2105134)]"
   ]
  },
  {
   "cell_type": "code",
   "execution_count": 20,
   "metadata": {},
   "outputs": [
    {
     "data": {
      "text/plain": [
       "[('00:00:00', 2104727),\n",
       " ('04:00:00', 2104729),\n",
       " ('08:00:00', 2104813),\n",
       " ('12:00:00', 2105024),\n",
       " ('16:00:00', 2105081),\n",
       " ('20:00:00', 2105134)]"
      ]
     },
     "execution_count": 20,
     "metadata": {},
     "output_type": "execute_result"
    }
   ],
   "source": [
    "#insert 7\n",
    "\n",
    "monday_dict={}\n",
    "for i in range(len(monday.index)):\n",
    "    tuple1 = ((monday['C/A'][i]), monday.UNIT[i], monday.SCP[i], monday.STATION[i])\n",
    "    if tuple1 not in monday_dict.keys():\n",
    "        monday_dict[tuple1]=[(monday.TIME[i],monday.EXITS[i])]\n",
    "    else:\n",
    "        monday_dict[tuple1].append((monday.TIME[i],monday.EXITS[i]))\n",
    "        \n",
    "monday_dict[('A002', 'R051', '02-00-00','59 ST')]\n"
   ]
  },
  {
   "cell_type": "markdown",
   "metadata": {},
   "source": [
    "8.Note: as you get more comfortable with pandas, you will rely more on built-in pandas capabilities and less on creating dictionaries from scratch. For example, run the following lines of code to verify that this dataframe gives you the same info that you got in Exercise 7."
   ]
  },
  {
   "cell_type": "code",
   "execution_count": 21,
   "metadata": {},
   "outputs": [
    {
     "data": {
      "text/html": [
       "<div>\n",
       "<style scoped>\n",
       "    .dataframe tbody tr th:only-of-type {\n",
       "        vertical-align: middle;\n",
       "    }\n",
       "\n",
       "    .dataframe tbody tr th {\n",
       "        vertical-align: top;\n",
       "    }\n",
       "\n",
       "    .dataframe thead th {\n",
       "        text-align: right;\n",
       "    }\n",
       "</style>\n",
       "<table border=\"1\" class=\"dataframe\">\n",
       "  <thead>\n",
       "    <tr style=\"text-align: right;\">\n",
       "      <th></th>\n",
       "      <th>TIME</th>\n",
       "      <th>EXITS</th>\n",
       "    </tr>\n",
       "  </thead>\n",
       "  <tbody>\n",
       "    <tr>\n",
       "      <th>0</th>\n",
       "      <td>00:00:00</td>\n",
       "      <td>2104727</td>\n",
       "    </tr>\n",
       "    <tr>\n",
       "      <th>1</th>\n",
       "      <td>04:00:00</td>\n",
       "      <td>2104729</td>\n",
       "    </tr>\n",
       "    <tr>\n",
       "      <th>2</th>\n",
       "      <td>08:00:00</td>\n",
       "      <td>2104813</td>\n",
       "    </tr>\n",
       "    <tr>\n",
       "      <th>3</th>\n",
       "      <td>12:00:00</td>\n",
       "      <td>2105024</td>\n",
       "    </tr>\n",
       "    <tr>\n",
       "      <th>4</th>\n",
       "      <td>16:00:00</td>\n",
       "      <td>2105081</td>\n",
       "    </tr>\n",
       "    <tr>\n",
       "      <th>5</th>\n",
       "      <td>20:00:00</td>\n",
       "      <td>2105134</td>\n",
       "    </tr>\n",
       "  </tbody>\n",
       "</table>\n",
       "</div>"
      ],
      "text/plain": [
       "       TIME    EXITS\n",
       "0  00:00:00  2104727\n",
       "1  04:00:00  2104729\n",
       "2  08:00:00  2104813\n",
       "3  12:00:00  2105024\n",
       "4  16:00:00  2105081\n",
       "5  20:00:00  2105134"
      ]
     },
     "execution_count": 21,
     "metadata": {},
     "output_type": "execute_result"
    }
   ],
   "source": [
    "x=monday.groupby(['C/A', 'UNIT', 'SCP', 'STATION']).groups #the keys are the station pairs and the values are the row indices\n",
    "flds = ['TIME','EXITS'] #we want to make values out of the remaining columns\n",
    "monday_exits = {key: monday.loc[val,flds] for key, val in x.items()}\n",
    "monday_exits[('A002', 'R051', '02-00-00','59 ST')]"
   ]
  },
  {
   "cell_type": "markdown",
   "metadata": {},
   "source": [
    "9.What the heck do these exit numbers represent? We can assume that they represent some sort of counter on the turnstile. We can subtract the exits at t=20 minus t=0 to figure out how many riders exited this turnstile between midnight and 8 pm.\n",
    "\n",
    "Can we calculate 20 - 0 for all of the stations? No! Unfortunately, the time increments aren't standardized. Many of the times are listed in 4 hour intervals of midnight, 4 am, 8 am, etc but not all. Make a frequency chart of the times for the monday dataframe from Exercise 6.\n",
    "\n"
   ]
  },
  {
   "cell_type": "code",
   "execution_count": 22,
   "metadata": {},
   "outputs": [
    {
     "data": {
      "text/plain": [
       "00:00:00    2409\n",
       "12:00:00    2408\n",
       "20:00:00    2408\n",
       "08:00:00    2407\n",
       "04:00:00    2405\n",
       "16:00:00    2405\n",
       "17:00:00    1741\n",
       "13:00:00    1740\n",
       "01:00:00    1740\n",
       "05:00:00    1740\n",
       "09:00:00    1739\n",
       "21:00:00    1738\n",
       "06:00:00     110\n",
       "22:00:00     110\n",
       "02:00:00     110\n",
       "10:00:00     110\n",
       "14:00:00     110\n",
       "18:00:00     110\n",
       "03:00:00      39\n",
       "15:00:00      39\n",
       "23:00:00      39\n",
       "19:00:00      39\n",
       "07:00:00      39\n",
       "11:00:00      39\n",
       "00:22:00      37\n",
       "08:22:00      37\n",
       "16:22:00      37\n",
       "12:22:00      37\n",
       "04:22:00      37\n",
       "20:22:00      37\n",
       "            ... \n",
       "16:30:24       1\n",
       "13:58:11       1\n",
       "05:04:24       1\n",
       "17:54:55       1\n",
       "06:18:49       1\n",
       "19:03:05       1\n",
       "21:01:18       1\n",
       "06:13:05       1\n",
       "19:40:11       1\n",
       "09:20:48       1\n",
       "13:34:01       1\n",
       "22:59:51       1\n",
       "13:07:27       1\n",
       "16:03:13       1\n",
       "07:08:37       1\n",
       "17:39:05       1\n",
       "23:15:52       1\n",
       "12:04:49       1\n",
       "01:18:31       1\n",
       "16:30:52       1\n",
       "22:01:14       1\n",
       "07:12:42       1\n",
       "09:00:14       1\n",
       "12:55:02       1\n",
       "11:37:22       1\n",
       "12:11:52       1\n",
       "09:42:58       1\n",
       "20:33:26       1\n",
       "07:33:29       1\n",
       "08:01:52       1\n",
       "Name: TIME, Length: 1887, dtype: int64"
      ]
     },
     "execution_count": 22,
     "metadata": {},
     "output_type": "execute_result"
    }
   ],
   "source": [
    "#insert 9\n",
    "\n",
    "monday.TIME.value_counts()"
   ]
  },
  {
   "cell_type": "markdown",
   "metadata": {},
   "source": [
    "10.Use your monday_dict from Exercise 7 to create a dictionary called monday_dict_diff that maps (C/A, UNIT, SCP, STATION) to the differences in exits between two consective times in order to see how many people exited through a turnstile within a given time interval.\n",
    "\n",
    "For example, the key ('A002', 'R051', '02-00-00','59 ST') should map to:\n",
    "\n",
    "[('04:00:00', 2),\n",
    " ('08:00:00', 84),\n",
    " ('12:00:00', 211),\n",
    " ('16:00:00', 57),\n",
    " ('20:00:00', 53)]"
   ]
  },
  {
   "cell_type": "code",
   "execution_count": 23,
   "metadata": {},
   "outputs": [
    {
     "ename": "NameError",
     "evalue": "name 'f' is not defined",
     "output_type": "error",
     "traceback": [
      "\u001b[0;31m---------------------------------------------------------------------------\u001b[0m",
      "\u001b[0;31mNameError\u001b[0m                                 Traceback (most recent call last)",
      "\u001b[0;32m<ipython-input-23-5c4eb8cac06e>\u001b[0m in \u001b[0;36m<module>\u001b[0;34m()\u001b[0m\n\u001b[1;32m      9\u001b[0m             \u001b[0mmonday_dict_diff\u001b[0m\u001b[0;34m[\u001b[0m\u001b[0mkey1\u001b[0m\u001b[0;34m]\u001b[0m\u001b[0;34m.\u001b[0m\u001b[0mappend\u001b[0m\u001b[0;34m(\u001b[0m\u001b[0;34m(\u001b[0m\u001b[0mvalue1\u001b[0m\u001b[0;34m[\u001b[0m\u001b[0mi\u001b[0m\u001b[0;34m+\u001b[0m\u001b[0;36m1\u001b[0m\u001b[0;34m]\u001b[0m\u001b[0;34m[\u001b[0m\u001b[0;36m0\u001b[0m\u001b[0;34m]\u001b[0m\u001b[0;34m,\u001b[0m\u001b[0mvalue1\u001b[0m\u001b[0;34m[\u001b[0m\u001b[0mi\u001b[0m\u001b[0;34m+\u001b[0m\u001b[0;36m1\u001b[0m\u001b[0;34m]\u001b[0m\u001b[0;34m[\u001b[0m\u001b[0;36m1\u001b[0m\u001b[0;34m]\u001b[0m\u001b[0;34m-\u001b[0m\u001b[0mvalue1\u001b[0m\u001b[0;34m[\u001b[0m\u001b[0mi\u001b[0m\u001b[0;34m]\u001b[0m\u001b[0;34m[\u001b[0m\u001b[0;36m1\u001b[0m\u001b[0;34m]\u001b[0m\u001b[0;34m)\u001b[0m\u001b[0;34m)\u001b[0m\u001b[0;34m\u001b[0m\u001b[0m\n\u001b[1;32m     10\u001b[0m \u001b[0;34m\u001b[0m\u001b[0m\n\u001b[0;32m---> 11\u001b[0;31m \u001b[0mf\u001b[0m\u001b[0;34m\u001b[0m\u001b[0m\n\u001b[0m\u001b[1;32m     12\u001b[0m \u001b[0mprint\u001b[0m\u001b[0;34m(\u001b[0m\u001b[0mmonday_dict_diff\u001b[0m\u001b[0;34m[\u001b[0m\u001b[0;34m(\u001b[0m\u001b[0;34m'A002'\u001b[0m\u001b[0;34m,\u001b[0m \u001b[0;34m'R051'\u001b[0m\u001b[0;34m,\u001b[0m \u001b[0;34m'02-00-00'\u001b[0m\u001b[0;34m,\u001b[0m\u001b[0;34m'59 ST'\u001b[0m\u001b[0;34m)\u001b[0m\u001b[0;34m]\u001b[0m\u001b[0;34m)\u001b[0m\u001b[0;34m\u001b[0m\u001b[0m\n",
      "\u001b[0;31mNameError\u001b[0m: name 'f' is not defined"
     ]
    }
   ],
   "source": [
    "#insert 10\n",
    "monday_dict_diff={} \n",
    "\n",
    "for key1,value1 in monday_dict.items(): \n",
    "     for i in range(0,len(monday_dict[key1])-1):\n",
    "        if key1 not in monday_dict_diff.keys():\n",
    "            monday_dict_diff[key1]=[(value1[i+1][0],value1[i+1][1]-value1[i][1])] \n",
    "        else:\n",
    "            monday_dict_diff[key1].append((value1[i+1][0],value1[i+1][1]-value1[i][1])) \n",
    "                                          \n",
    "f\n",
    "print(monday_dict_diff[('A002', 'R051', '02-00-00','59 ST')])"
   ]
  },
  {
   "cell_type": "code",
   "execution_count": null,
   "metadata": {},
   "outputs": [],
   "source": [
    "\n"
   ]
  },
  {
   "cell_type": "markdown",
   "metadata": {},
   "source": [
    "11.Once again, note that pandas can do the above calculation for you. If you used the monday_exits dataframe from Exercise 8, run the following code to verify that you obtain what you just got in Exercise 10. It may take a bit longer to run."
   ]
  },
  {
   "cell_type": "code",
   "execution_count": null,
   "metadata": {},
   "outputs": [],
   "source": [
    "monday_diff = {}\n",
    "\n",
    "for turnstile, slice_df in monday_exits.items():\n",
    "    diff = slice_df['EXITS'].diff().values #calculates the exit difference between each entry\n",
    "    monday_diff[turnstile] = pd.Series(diff, index=slice_df['TIME'].values) #maps turnstile to (time, exit difference) pairs\n",
    "    for i,(key, val) in enumerate(monday_diff[turnstile].items()):\n",
    "        try: #need a try because you'll get an error for NAN difference values since there is one less difference than the number of times\n",
    "            monday_exits[turnstile].at[i,'EXITS'] = val\n",
    "        except:\n",
    "            continue\n",
    "    monday_exits[turnstile] = monday_exits[turnstile].drop(0)    #drop the first time because you only calculate differences after the second time.                   \n",
    "    \n",
    "monday_exits[('A002', 'R051', '02-00-00', '59 ST')]"
   ]
  },
  {
   "cell_type": "markdown",
   "metadata": {},
   "source": [
    "12.Find how many people in total passed through a given turnstile between the hours given for 06/12/2017. For example, if a turnstile is on increments of 0,4,8,...,20, then you want to find out how many total people passed through between midnight and 8 pm. Create a dictionary called total_turnstile that maps (C/A,UNIT,SCP,STATION) to total Monday ridership. Use your dictionary from Exercise 10.\n",
    "\n",
    "Hint: the key ('A002', 'R051', '02-00-00', '59 ST') should map to 407 total riders."
   ]
  },
  {
   "cell_type": "code",
   "execution_count": null,
   "metadata": {},
   "outputs": [],
   "source": [
    "#insert 12\n",
    "total_turnstile={}\n",
    "for key,value in monday_dict_diff.items():\n",
    "    total=0 \n",
    "    for i in range(len(value)):\n",
    "        total=total+value[i][1]\n",
    "        total_turnstile[key]=total\n",
    "print(total_turnstile[('A002', 'R051', '02-00-00', '59 ST')])\n"
   ]
  },
  {
   "cell_type": "markdown",
   "metadata": {},
   "source": [
    "13.Use your work in Exercise 12 to create a dictionary called total_riders that maps the (C/A, UNIT, STATION) location to all riders that passed through ALL of the turnstiles in that area on Monday.\n",
    "\n",
    "Hint 1: use the get command\n",
    "\n",
    "Hint 2: ('A002', 'R051', '59 ST') should have 6704 total riders."
   ]
  },
  {
   "cell_type": "code",
   "execution_count": null,
   "metadata": {},
   "outputs": [],
   "source": [
    "#insert 13\n",
    "total_riders={}\n",
    "\n",
    "for key,value in total_turnstile.items():\n",
    "    tuple1=key[0],key[1],key[3]\n",
    "    if (tuple1) not in total_riders.keys():\n",
    "        total_riders[tuple1]=[total_turnstile.get(key,0)]\n",
    "    else:\n",
    "        total_riders[tuple1].append(total_turnstile.get(key,0))\n",
    "    \n",
    "for key,value in total_riders.items():\n",
    "    total_riders[key]=sum(value)\n",
    "    \n",
    "print(total_riders[('A002', 'R051', '59 ST')])   \n",
    "\n",
    "#total_riders={}\n",
    "#for key,value in total_turnstile.items():\n",
    "#    tuple1=key[0],key[1],key[3] \n",
    "#    total_riders[tuple1]=total_riders.get(tuple1,0)+value\n",
    "#print(total_riders[('A002', 'R051', '59 ST')]) \n",
    "\n",
    "    "
   ]
  },
  {
   "cell_type": "markdown",
   "metadata": {},
   "source": [
    "14.Create a list of tuples called tuple_list using your total_riders dictionary so that you can sort the list in decending order to see busiest stations. Hint: the busiest area should be the PATH World Trade Center station."
   ]
  },
  {
   "cell_type": "code",
   "execution_count": null,
   "metadata": {},
   "outputs": [],
   "source": [
    "#insert 14\n",
    "tuple_list=[]\n",
    "for key,value in total_riders.items():\n",
    "    tuple_list.append((value,key[2]))\n",
    "\n",
    "print(sorted(tuple_list)[::-1][0])\n"
   ]
  },
  {
   "cell_type": "markdown",
   "metadata": {},
   "source": [
    "15.Look at the three smallest riderships in your above tuple list. Do they make sense? What about your data caused negative numbers? Welcome to the world of buggy real world data! Remove these three items from your tuple list."
   ]
  },
  {
   "cell_type": "code",
   "execution_count": null,
   "metadata": {},
   "outputs": [],
   "source": [
    "#insert 15\n",
    "print('Number of people coming in is larger than the number of people exiting.')\n",
    "tuple_list=sorted(tuple_list)[::-1]\n",
    "\n",
    "tuple_list.pop(-1)\n",
    "tuple_list.pop(-1)\n",
    "tuple_list.pop(-1)\n",
    "print(tuple_list)"
   ]
  },
  {
   "cell_type": "markdown",
   "metadata": {},
   "source": [
    "16.Create a barchart for the number of riders. You don't need to keep track of the names of each station, as that would get really messy to plot. Instead, you can just use a list comprehension to save the rider numbers to the y-values and give the stations the numbers 0,1,2,3,... for the x-values. You can use the following piece of code. Remember to add in axis labels and a title.\n",
    "\n",
    "x = range(len(tuple_list))\n",
    "\n",
    "y = [tuple_list[i][0] for i in range(len(tuple_list))]\n",
    "\n",
    "plt.bar(x,y)"
   ]
  },
  {
   "cell_type": "code",
   "execution_count": null,
   "metadata": {},
   "outputs": [],
   "source": [
    "#insert 16\n",
    "\n",
    "import matplotlib.pyplot as plt \n",
    "\n",
    "x = range(len(tuple_list))\n",
    "y = [tuple_list[i][0] for i in range(len(tuple_list))]\n",
    "plt.bar(x,y) \n",
    "\n"
   ]
  },
  {
   "cell_type": "markdown",
   "metadata": {},
   "source": [
    "17.Perhaps we don't care about total ridership in a 24 period. Perhaps we only care about the morning commute. Let's assume that the majority of people arrive at their work location subway exit between 8 and 9 am.  \n",
    "\n",
    "Go back up to your frequency chart in Exercise 9. Note that the most common morning commutes would be gained from subtracting 9 am - 5 am and 10 am - 6 am and 11 am - 7 am and 12pm - 8am, for the stations that are broken down by those specific four hour intervals.\n",
    "\n",
    "As a dirty way to consider only the stations that are on these time intervals, save just the rows in your original monday dataframe that contain the TIME strings '05:00:00', '06:00:00',..., '12:00:00'. Remember you can do this by using OR statements using the \"|\" symbol and remembering parenthesis. Call this new dataframe \"morning\". Be sure to reset its index."
   ]
  },
  {
   "cell_type": "code",
   "execution_count": null,
   "metadata": {},
   "outputs": [],
   "source": [
    "#insert 17\n",
    "monday=monday[(monday.TIME=='05:00:00')|(monday.TIME=='12:00:00')|(monday.TIME=='06:00:00')|\n",
    "               (monday.TIME=='07:00:00')|(monday.TIME=='08:00:00')|(monday.TIME=='09:00:00')|\n",
    "               (monday.TIME=='10:00:00')|(monday.TIME=='11:00:00')|(monday.TIME=='12:00:00')]\n",
    "monday=monday.reset_index(drop=True) \n",
    "monday.head()\n"
   ]
  },
  {
   "cell_type": "markdown",
   "metadata": {},
   "source": [
    "18.Now create a morning_dict by repeating your work in Exercise 7 on this morning dataframe. The dictionary should map the tuple (C/A, UNIT, SCP,STATION) to an inner dictionary containing {TIME: EXITS} for all Monday rides.\n",
    "\n",
    "Hint: ('A002', 'R051', '02-00-00','59 ST') should map to {'08:00:00': 2104813, '12:00:00': 2105024}."
   ]
  },
  {
   "cell_type": "code",
   "execution_count": null,
   "metadata": {},
   "outputs": [],
   "source": [
    "#insert 18\n",
    "monday_dict={}\n",
    "for i in range(len(monday.index)):\n",
    "        tuple1 = ((monday['C/A'][i], monday.UNIT[i], monday.SCP[i], monday.STATION[i]))\n",
    "        monday_dict[tuple1]=monday_dict.get(tuple1,{})\n",
    "        monday_dict[tuple1].update({monday.TIME[i]:monday.EXITS[i]})\n",
    "\n",
    "print(monday_dict[('A002', 'R051', '02-00-00','59 ST')])\n"
   ]
  },
  {
   "cell_type": "markdown",
   "metadata": {},
   "source": [
    "19.We're almost ready to subtract the two consecutive times for each station to get the morning commutes. That is, if there are exactly two times for each station. Find which stations keys in your dictionary above do not contain exactly two times and delete them from the morning dictionary.\n",
    "\n",
    "How many keys are left in your morning_dict? There should be 4293."
   ]
  },
  {
   "cell_type": "code",
   "execution_count": null,
   "metadata": {},
   "outputs": [],
   "source": [
    "#insert 19\n",
    "to_delete = []\n",
    "for key,value in monday_dict.items():\n",
    "    if len(value)!=2:\n",
    "        to_delete.append(key)\n",
    "for i in to_delete:\n",
    "    del monday_dict[i]\n",
    "    \n",
    "print(len(monday_dict))\n"
   ]
  },
  {
   "cell_type": "markdown",
   "metadata": {},
   "source": [
    "20.Create a dictionary called morning_differences where (C/A, UNIT, STATION) maps to an inner dictionary containing {SCP: Morning Exit Differences}.\n",
    "\n",
    "For example, ('A002', 'R051', '59 ST') should map to:\n",
    "\n",
    "{'02-00-00': 211,\n",
    " '02-00-01': 128,\n",
    " '02-03-00': 654,\n",
    " '02-03-01': 630,\n",
    " '02-03-02': 533,\n",
    " '02-03-03': 401,\n",
    " '02-03-04': 186,\n",
    " '02-03-05': 49,\n",
    " '02-03-06': 8,\n",
    " '02-05-00': 0,\n",
    " '02-05-01': 0,\n",
    " '02-06-00': 4}"
   ]
  },
  {
   "cell_type": "code",
   "execution_count": null,
   "metadata": {},
   "outputs": [],
   "source": [
    "#insert 20\n",
    "morning_differences={}\n",
    "for key,value in monday_dict.items():\n",
    "    key1=(key[0],key[1],key[3])\n",
    "    scp=key[2]\n",
    "    list1=[]\n",
    "    for key2,value2 in value.items():\n",
    "        list1.append(value2)\n",
    "    diff=list1[1]-list1[0]\n",
    "        \n",
    "    if key1 not in morning_differences.keys():\n",
    "        morning_differences[key1]={scp:diff}\n",
    "    else:\n",
    "        morning_differences[key1][scp]=diff \n",
    "        \n",
    "morning_differences[('A002', 'R051', '59 ST')]"
   ]
  },
  {
   "cell_type": "markdown",
   "metadata": {},
   "source": [
    "21.Create a dictionary called total_morning_diff that maps each (C/A, Unit, Station) location to the total morning riders passing through ALL of the turnstiles in that area.\n",
    "\n",
    "Hint 1: see your work in Exercise 13.\n",
    "\n",
    "Hint 2: ('A002', 'R051','59 ST') should have 2804 morning commuter exits.\n"
   ]
  },
  {
   "cell_type": "code",
   "execution_count": null,
   "metadata": {},
   "outputs": [],
   "source": [
    "#insert 21\n",
    "total_morning_diff={}\n",
    "for key,value in morning_differences.items():\n",
    "    total=[]\n",
    "    for key1,value1 in value.items():\n",
    "        total.append(value1)\n",
    "    sum1=sum(total)\n",
    "    total_morning_diff[key]=total_morning_diff.get(key,0)+sum1\n",
    "    \n",
    "total_morning_diff[('A002', 'R051','59 ST')]"
   ]
  },
  {
   "cell_type": "markdown",
   "metadata": {},
   "source": [
    "22.Create a list of sorted tuples to see the most popular morning exits.\n",
    "\n",
    "Hint:  ('R238', 'R046', 'GRD CNTRL-42 ST') should be the highest with 17,300 morning exits."
   ]
  },
  {
   "cell_type": "code",
   "execution_count": 38,
   "metadata": {},
   "outputs": [
    {
     "ename": "NameError",
     "evalue": "name 'total_morning_diff' is not defined",
     "output_type": "error",
     "traceback": [
      "\u001b[0;31m---------------------------------------------------------------------------\u001b[0m",
      "\u001b[0;31mNameError\u001b[0m                                 Traceback (most recent call last)",
      "\u001b[0;32m<ipython-input-38-25043653c80e>\u001b[0m in \u001b[0;36m<module>\u001b[0;34m()\u001b[0m\n\u001b[1;32m      1\u001b[0m \u001b[0;31m#insert 22\u001b[0m\u001b[0;34m\u001b[0m\u001b[0;34m\u001b[0m\u001b[0m\n\u001b[1;32m      2\u001b[0m \u001b[0mtuple1\u001b[0m\u001b[0;34m=\u001b[0m\u001b[0;34m[\u001b[0m\u001b[0;34m]\u001b[0m\u001b[0;34m\u001b[0m\u001b[0m\n\u001b[0;32m----> 3\u001b[0;31m \u001b[0;32mfor\u001b[0m \u001b[0mkey\u001b[0m\u001b[0;34m,\u001b[0m\u001b[0mvalue\u001b[0m \u001b[0;32min\u001b[0m \u001b[0mtotal_morning_diff\u001b[0m\u001b[0;34m.\u001b[0m\u001b[0mitems\u001b[0m\u001b[0;34m(\u001b[0m\u001b[0;34m)\u001b[0m\u001b[0;34m:\u001b[0m\u001b[0;34m\u001b[0m\u001b[0m\n\u001b[0m\u001b[1;32m      4\u001b[0m     \u001b[0mtuple1\u001b[0m\u001b[0;34m.\u001b[0m\u001b[0mappend\u001b[0m\u001b[0;34m(\u001b[0m\u001b[0;34m(\u001b[0m\u001b[0mvalue\u001b[0m\u001b[0;34m,\u001b[0m\u001b[0mkey\u001b[0m\u001b[0;34m)\u001b[0m\u001b[0;34m)\u001b[0m\u001b[0;34m\u001b[0m\u001b[0m\n\u001b[1;32m      5\u001b[0m \u001b[0mprint\u001b[0m\u001b[0;34m(\u001b[0m\u001b[0msorted\u001b[0m\u001b[0;34m(\u001b[0m\u001b[0mtuple1\u001b[0m\u001b[0;34m)\u001b[0m\u001b[0;34m[\u001b[0m\u001b[0;34m:\u001b[0m\u001b[0;34m:\u001b[0m\u001b[0;34m-\u001b[0m\u001b[0;36m1\u001b[0m\u001b[0;34m]\u001b[0m\u001b[0;34m[\u001b[0m\u001b[0;36m0\u001b[0m\u001b[0;34m]\u001b[0m\u001b[0;34m)\u001b[0m\u001b[0;34m\u001b[0m\u001b[0m\n",
      "\u001b[0;31mNameError\u001b[0m: name 'total_morning_diff' is not defined"
     ]
    }
   ],
   "source": [
    "#insert 22\n",
    "tuple1=[]\n",
    "for key,value in total_morning_diff.items():\n",
    "    tuple1.append((value,key))\n",
    "print(sorted(tuple1)[::-1][0])\n"
   ]
  },
  {
   "cell_type": "markdown",
   "metadata": {},
   "source": [
    "23.We notice that the ('R204', 'R043', 'WALL ST') stop is pretty high on the Monday morning list. How can we tell if this exit is more of a commuter or tourist exit? Maybe we'll see if the total number of people is higher on a weekday than a weekend. Go back to the original df dataframe. Save only the items that contain ('R204', 'R043', 'WALL ST') to a dataframe called wallstreet and create a list of tuples where the first entry is the date and the second entry is the total ridership. \n",
    "\n",
    "Hint: there should be 9936 riders on 06/15/2017."
   ]
  },
  {
   "cell_type": "code",
   "execution_count": 43,
   "metadata": {},
   "outputs": [
    {
     "name": "stdout",
     "output_type": "stream",
     "text": [
      "[('06/10/2017', 11), ('06/11/2017', 1745), ('06/12/2017', 9397), ('06/13/2017', 9730), ('06/14/2017', 9501), ('06/15/2017', 9936), ('06/16/2017', 8778)]\n"
     ]
    }
   ],
   "source": [
    "#insert 23\n",
    "\n",
    "sed=data.rename(columns={\"C/A\":\"CA\"})\n",
    "sed=sed[(sed.CA=='R204')&(sed.UNIT=='R043')&(sed.STATION=='WALL ST')]\n",
    "sed=sed.reset_index(drop=True) \n",
    "wallstreet=sed.rename(columns={\"CA\":\"C/A\"})\n",
    "wallstreet\n",
    "     \n",
    "list1=[]\n",
    "dic={}\n",
    "for i in range(len(wallstreet.index)):\n",
    "    key=wallstreet.DATE[i]\n",
    "    if key not in dic.keys():\n",
    "        dic[key]={wallstreet.SCP[i]:{wallstreet.TIME[i]:wallstreet.EXITS[i]}}\n",
    "    if wallstreet.SCP[i] not in dic[key].keys():\n",
    "        dic[key][wallstreet.SCP[i]]={wallstreet.TIME[i]:wallstreet.EXITS[i]}\n",
    "    else:\n",
    "        dic[key][wallstreet.SCP[i]][wallstreet.TIME[i]]=wallstreet.EXITS[i]\n",
    "\n",
    "dic['06/12/2017']\n",
    "\n",
    "          \n",
    "wall_dict={}\n",
    "\n",
    "for key,value in dic.items():\n",
    "    for key1,value1 in value.items():\n",
    "        list1=[]\n",
    "        list2=[]\n",
    "        for key2,value2 in value1.items():\n",
    "            total=0\n",
    "            list1.append(value1[key2])\n",
    "        sums=[]\n",
    "        for num in list1:\n",
    "            for i in range(0,len(list1)-1):\n",
    "                list2.append(list1[i+1]-list1[i])\n",
    "            sums.append(sum(list2))\n",
    "        wall_dict[key]=wall_dict.get(key,{})\n",
    "        wall_dict[key].update({key1:sums[0]})\n",
    "        \n",
    "wall_dict['06/12/2017']\n",
    "tuple1=[]\n",
    "for key,value in wall_dict.items():\n",
    "    list3=[]\n",
    "    for key1,value1 in value.items():\n",
    "        list3.append(value1)\n",
    "    tuple1.append((key,sum(list3)))\n",
    " \n",
    "print(tuple1)\n",
    "\n",
    "                                            "
   ]
  },
  {
   "cell_type": "markdown",
   "metadata": {},
   "source": [
    "24.Plot the list of tuples you made where date is the x-axis and ridership is the y-axis for this wall street station.\n",
    "\n",
    "Hint: you'll first need to use datetime to convert the dates to datetime format."
   ]
  },
  {
   "cell_type": "code",
   "execution_count": null,
   "metadata": {},
   "outputs": [],
   "source": [
    "#insert 24\n",
    "import numpy as np\n",
    "import matplotlib.pyplot as plt\n",
    "%matplotlib inline\n",
    "from datetime import datetime\n",
    "\n",
    "date1=[]\n",
    "rider=[]\n",
    "for i in range(len(tuple1)):\n",
    "    date=datetime.strptime(tuple1[i][0],\"%m/%d/%Y\")\n",
    "    date1.append(date)\n",
    "    rider.append(tuple1[i][1])\n",
    "\n",
    "\n",
    "\n",
    "dates = np.array(date1)\n",
    "riders = np.array(rider)\n",
    "plt.plot(dates, riders,'.')\n",
    "plt.show()"
   ]
  },
  {
   "cell_type": "markdown",
   "metadata": {},
   "source": [
    "25.Now use datetime to convert the dates to \"Mon\", \"Tues\", etc and print the days of the week with corresponding ridership. Is this a commuter stop or a tourist stop?"
   ]
  },
  {
   "cell_type": "code",
   "execution_count": null,
   "metadata": {},
   "outputs": [],
   "source": [
    "#insert 25\n",
    "import datetime\n",
    "y=[]\n",
    "for i in range(len(tuple1)):\n",
    "    y.append(datetime.datetime.strptime(tuple1[i][0],\"%m/%d/%Y\").strftime('%a'))\n",
    "    y.append(tuple1[i][1])\n",
    "print(y)\n",
    "print('This is a commuter stop.')"
   ]
  },
  {
   "cell_type": "code",
   "execution_count": null,
   "metadata": {},
   "outputs": [],
   "source": []
  },
  {
   "cell_type": "code",
   "execution_count": null,
   "metadata": {},
   "outputs": [],
   "source": []
  },
  {
   "cell_type": "code",
   "execution_count": null,
   "metadata": {},
   "outputs": [],
   "source": []
  },
  {
   "cell_type": "code",
   "execution_count": 4,
   "metadata": {
    "scrolled": true
   },
   "outputs": [
    {
     "name": "stdout",
     "output_type": "stream",
     "text": [
      "[(4140, ('N062A', 'R010', '42 ST-PORT AUTH')), (3473, ('N060', 'R010', '42 ST-PORT AUTH')), (2190, ('N600', 'R302', '57 ST')), (1988, ('R132', 'R190', '23 ST')), (1890, ('R226', 'R131', '23 ST')), (1027, ('R131', 'R190', '23 ST')), (953, ('N530', 'R301', 'YORK ST')), (776, ('R227A', 'R131', '23 ST')), (692, ('R226A', 'R131', '23 ST')), (292, ('R404', 'R447', 'CYPRESS AV')), (287, ('R405', 'R447', 'CYPRESS AV')), (122, ('R227', 'R131', '23 ST'))]\n"
     ]
    }
   ],
   "source": [
    "import pandas as pd  \n",
    "\n",
    "def Stations(MTA):\n",
    "    MTA.columns = MTA.columns.str.strip()\n",
    "    monday = MTA[(MTA.STATION == '59 ST') | (MTA.STATION =='57 ST') | (MTA.STATION == '5 AVE') | (MTA.STATION == '21 ST-QNSBRIDGE') | (MTA.STATION == '23 ST') | (MTA.STATION =='42 ST-PORT AUTH') | (MTA.STATION == 'CYPRESS AV') | (MTA.STATION == 'YORK ST') | (MTA.STATION == 'BOROUGH HALL') | (MTA.STATION == 'HOYT ST') | (MTA.STATION == 'NEVINS ST')]\n",
    "    monday = monday.reset_index(drop=True)\n",
    "    return(monday)\n",
    "\n",
    "\n",
    "\n",
    "def time(MTA):\n",
    "    evening=MTA[(MTA.TIME=='12:00:00')|(MTA.TIME=='13:00:00')|(MTA.TIME=='14:00:00')|\n",
    "               (MTA.TIME=='15:00:00')|(MTA.TIME=='16:00:00')|(MTA.TIME=='17:00:00')|\n",
    "               (MTA.TIME=='18:00:00')|(MTA.TIME=='19:00:00')|(MTA.TIME=='20:00:00')]\n",
    "    evening=evening.reset_index(drop=True) \n",
    "    return(evening)\n",
    "\n",
    "stations = Stations(pd.read_csv('june17.csv'))\n",
    "times = time(stations)\n",
    "\n",
    "def date(MTA):\n",
    "    MTA=MTA[MTA.DATE=='06/16/2017']\n",
    "    MTA=MTA.reset_index(drop=True)\n",
    "    return(MTA)\n",
    "\n",
    "droped=date(times)\n",
    "\n",
    "def dic(MTA):\n",
    "    MTA_dict={}\n",
    "    for i in range(len(MTA.index)):\n",
    "            tuple1 = ((MTA['C/A'][i], MTA.UNIT[i], MTA.SCP[i], MTA.STATION[i]))\n",
    "            MTA_dict[tuple1]=MTA_dict.get(tuple1,{})\n",
    "            MTA_dict[tuple1].update({MTA.TIME[i]:MTA.EXITS[i]})\n",
    "    return(MTA_dict)\n",
    "dic1=dic(droped)\n",
    "\n",
    "\n",
    "\n",
    "def delete(MTA):\n",
    "    to_delete = []\n",
    "    for key,value in MTA.items():\n",
    "        if len(value)!=2:\n",
    "            to_delete.append(key)\n",
    "    for i in to_delete:\n",
    "        del MTA[i]\n",
    "    return(MTA)\n",
    "\n",
    "deleted_dict=delete(dic1)\n",
    "\n",
    "def morningdif(mordict):\n",
    "    morning_differences = {}\n",
    "    for key,value in mordict.items():\n",
    "        newkey = (key[0],key[1],key[3])\n",
    "        val = []\n",
    "        SCP = key[2]\n",
    "        for key1, val1 in value.items():\n",
    "            val.append(val1)\n",
    "        dif = val[1]-val[0]\n",
    "        if newkey not in morning_differences:\n",
    "            morning_differences[newkey] = {SCP : dif}\n",
    "        else:\n",
    "            morning_differences[newkey][SCP] = dif\n",
    "    return(morning_differences)\n",
    "\n",
    "morningdiff=morningdif(deleted_dict)\n",
    "\n",
    "def totalnum (morningdif):\n",
    "    total_morning_diff={}\n",
    "    for key,value in morningdif.items():\n",
    "        total=[]\n",
    "        for key1,value1 in value.items():\n",
    "            total.append(value1)\n",
    "            sum1=sum(total)\n",
    "        total_morning_diff[key]=total_morning_diff.get(key,0)+sum1\n",
    "    return (total_morning_diff)\n",
    "\n",
    "total=totalnum(morningdiff)\n",
    "\n",
    "\n",
    "def rank(totalnum):\n",
    "    list1=[]\n",
    "    for key2,value2 in totalnum.items():\n",
    "        if key2 not in list1:\n",
    "            list1.append((value2,key2))\n",
    "    list1.sort(reverse=True)\n",
    "    return(list1)\n",
    "ranked=rank(total)\n",
    "\n",
    "print(ranked)"
   ]
  },
  {
   "cell_type": "code",
   "execution_count": 25,
   "metadata": {},
   "outputs": [
    {
     "name": "stdout",
     "output_type": "stream",
     "text": [
      "{'08:00:00': 1830, '12:00:00': 1830}\n"
     ]
    }
   ],
   "source": [
    "\n",
    "import pandas as pd  \n",
    "\n",
    "def Stations(MTA):\n",
    "    MTA.columns = MTA.columns.str.strip()\n",
    "    monday = MTA[(MTA.STATION == '59 ST') | (MTA.STATION =='57 ST') | (MTA.STATION == '5 AVE') | (MTA.STATION == '21 ST-QNSBRIDGE') | (MTA.STATION == '23 ST') | (MTA.STATION =='42 ST-PORT AUTH') | (MTA.STATION == 'CYPRESS AV') | (MTA.STATION == 'YORK ST') | (MTA.STATION == 'BOROUGH HALL') | (MTA.STATION == 'HOYT ST') | (MTA.STATION == 'NEVINS ST')]\n",
    "    monday = monday.reset_index(drop=True)\n",
    "    return(monday)\n",
    "\n",
    "\n",
    "\n",
    "def time(MTA):\n",
    "    morning=MTA[(MTA.TIME=='05:00:00')|(MTA.TIME=='12:00:00')|(MTA.TIME=='06:00:00')|\n",
    "               (MTA.TIME=='07:00:00')|(MTA.TIME=='08:00:00')|(MTA.TIME=='09:00:00')|\n",
    "               (MTA.TIME=='10:00:00')|(MTA.TIME=='11:00:00')|(MTA.TIME=='12:00:00')]\n",
    "    morning=morning.reset_index(drop=True) \n",
    "    return(morning)\n",
    "\n",
    "stations = Stations(pd.read_csv('june17.csv'))\n",
    "times = time(stations)\n",
    "\n",
    "def date(MTA):\n",
    "    MTA=MTA[MTA.DATE=='06/10/2017']\n",
    "    MTA=MTA.reset_index(drop=True)\n",
    "    return(MTA)\n",
    "\n",
    "droped=date(times)\n",
    "\n",
    "def dic(MTA):\n",
    "    MTA_dict={}\n",
    "    for i in range(len(MTA.index)):\n",
    "            tuple1 = ((MTA['C/A'][i], MTA.UNIT[i], MTA.STATION[i]))\n",
    "            MTA_dict[tuple1]=MTA_dict.get(tuple1,{})\n",
    "            MTA_dict[tuple1].update({MTA.TIME[i]:MTA.EXITS[i]})\n",
    "    return(MTA_dict)\n",
    "dic1=dic(droped)\n",
    "\n",
    "def delete(MTA):\n",
    "    to_delete = []\n",
    "    for key,value in MTA.items():\n",
    "        if len(value)!=2:\n",
    "            to_delete.append(key)\n",
    "    for i in to_delete:\n",
    "        del MTA[i]\n",
    "    return(MTA)\n",
    "\n",
    "deleted_dict=delete(dic1)\n",
    " \n",
    "print(deleted_dict[('R601A', 'R108', 'BOROUGH HALL')])\n"
   ]
  },
  {
   "cell_type": "code",
   "execution_count": null,
   "metadata": {},
   "outputs": [],
   "source": [
    "\n",
    "\n"
   ]
  }
 ],
 "metadata": {
  "kernelspec": {
   "display_name": "Python 3",
   "language": "python",
   "name": "python3"
  },
  "language_info": {
   "codemirror_mode": {
    "name": "ipython",
    "version": 3
   },
   "file_extension": ".py",
   "mimetype": "text/x-python",
   "name": "python",
   "nbconvert_exporter": "python",
   "pygments_lexer": "ipython3",
   "version": "3.6.4"
  }
 },
 "nbformat": 4,
 "nbformat_minor": 1
}
